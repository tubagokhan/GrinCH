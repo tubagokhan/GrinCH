{
  "nbformat": 4,
  "nbformat_minor": 0,
  "metadata": {
    "colab": {
      "provenance": [],
      "machine_shape": "hm",
      "gpuType": "V100",
      "mount_file_id": "1aAs2XYq-8pguO3bfdEVgFaggkYTASAjU",
      "authorship_tag": "ABX9TyPkejChVYvDdNts1DMHMqhn",
      "include_colab_link": true
    },
    "kernelspec": {
      "name": "python3",
      "display_name": "Python 3"
    },
    "language_info": {
      "name": "python"
    },
    "accelerator": "TPU"
  },
  "cells": [
    {
      "cell_type": "markdown",
      "metadata": {
        "id": "view-in-github",
        "colab_type": "text"
      },
      "source": [
        "<a href=\"https://colab.research.google.com/github/tubagokhan/GrinCH/blob/main/GraphInClusterCNNTextRankwithSentenceDistribution.ipynb\" target=\"_parent\"><img src=\"https://colab.research.google.com/assets/colab-badge.svg\" alt=\"Open In Colab\"/></a>"
      ]
    },
    {
      "cell_type": "code",
      "source": [
        "from google.colab import drive\n",
        "drive.mount('/content/drive')"
      ],
      "metadata": {
        "colab": {
          "base_uri": "https://localhost:8080/"
        },
        "id": "WyJpHua8EeY0",
        "outputId": "2af1c72a-c495-4d1a-a7ee-b443916a6d63"
      },
      "execution_count": 1,
      "outputs": [
        {
          "output_type": "stream",
          "name": "stdout",
          "text": [
            "Drive already mounted at /content/drive; to attempt to forcibly remount, call drive.mount(\"/content/drive\", force_remount=True).\n"
          ]
        }
      ]
    },
    {
      "cell_type": "code",
      "source": [
        "!pip install transformers\n",
        "!pip install datasets\n",
        "!pip install torch\n",
        "!pip install scikit-learn\n",
        "!pip install matplotlib\n",
        "!pip install sentence_transformers\n",
        "!pip install py-rouge==1.1"
      ],
      "metadata": {
        "id": "ThO6v86y2WAs",
        "colab": {
          "base_uri": "https://localhost:8080/"
        },
        "outputId": "4527eebe-7093-4910-f532-535588d3ec1b"
      },
      "execution_count": 2,
      "outputs": [
        {
          "output_type": "stream",
          "name": "stdout",
          "text": [
            "Requirement already satisfied: transformers in /usr/local/lib/python3.10/dist-packages (4.31.0)\n",
            "Requirement already satisfied: filelock in /usr/local/lib/python3.10/dist-packages (from transformers) (3.12.2)\n",
            "Requirement already satisfied: huggingface-hub<1.0,>=0.14.1 in /usr/local/lib/python3.10/dist-packages (from transformers) (0.16.4)\n",
            "Requirement already satisfied: numpy>=1.17 in /usr/local/lib/python3.10/dist-packages (from transformers) (1.25.1)\n",
            "Requirement already satisfied: packaging>=20.0 in /usr/local/lib/python3.10/dist-packages (from transformers) (23.1)\n",
            "Requirement already satisfied: pyyaml>=5.1 in /usr/local/lib/python3.10/dist-packages (from transformers) (6.0.1)\n",
            "Requirement already satisfied: regex!=2019.12.17 in /usr/local/lib/python3.10/dist-packages (from transformers) (2022.10.31)\n",
            "Requirement already satisfied: requests in /usr/local/lib/python3.10/dist-packages (from transformers) (2.27.1)\n",
            "Requirement already satisfied: tokenizers!=0.11.3,<0.14,>=0.11.1 in /usr/local/lib/python3.10/dist-packages (from transformers) (0.13.3)\n",
            "Requirement already satisfied: safetensors>=0.3.1 in /usr/local/lib/python3.10/dist-packages (from transformers) (0.3.1)\n",
            "Requirement already satisfied: tqdm>=4.27 in /usr/local/lib/python3.10/dist-packages (from transformers) (4.65.0)\n",
            "Requirement already satisfied: fsspec in /usr/local/lib/python3.10/dist-packages (from huggingface-hub<1.0,>=0.14.1->transformers) (2023.6.0)\n",
            "Requirement already satisfied: typing-extensions>=3.7.4.3 in /usr/local/lib/python3.10/dist-packages (from huggingface-hub<1.0,>=0.14.1->transformers) (4.7.1)\n",
            "Requirement already satisfied: urllib3<1.27,>=1.21.1 in /usr/local/lib/python3.10/dist-packages (from requests->transformers) (1.26.16)\n",
            "Requirement already satisfied: certifi>=2017.4.17 in /usr/local/lib/python3.10/dist-packages (from requests->transformers) (2023.5.7)\n",
            "Requirement already satisfied: charset-normalizer~=2.0.0 in /usr/local/lib/python3.10/dist-packages (from requests->transformers) (2.0.12)\n",
            "Requirement already satisfied: idna<4,>=2.5 in /usr/local/lib/python3.10/dist-packages (from requests->transformers) (3.4)\n",
            "Requirement already satisfied: datasets in /usr/local/lib/python3.10/dist-packages (2.14.0)\n",
            "Requirement already satisfied: numpy>=1.17 in /usr/local/lib/python3.10/dist-packages (from datasets) (1.25.1)\n",
            "Requirement already satisfied: pyarrow>=8.0.0 in /usr/local/lib/python3.10/dist-packages (from datasets) (9.0.0)\n",
            "Requirement already satisfied: dill<0.3.8,>=0.3.0 in /usr/local/lib/python3.10/dist-packages (from datasets) (0.3.7)\n",
            "Requirement already satisfied: pandas in /usr/local/lib/python3.10/dist-packages (from datasets) (1.5.3)\n",
            "Requirement already satisfied: requests>=2.19.0 in /usr/local/lib/python3.10/dist-packages (from datasets) (2.27.1)\n",
            "Requirement already satisfied: tqdm>=4.62.1 in /usr/local/lib/python3.10/dist-packages (from datasets) (4.65.0)\n",
            "Requirement already satisfied: xxhash in /usr/local/lib/python3.10/dist-packages (from datasets) (3.2.0)\n",
            "Requirement already satisfied: multiprocess in /usr/local/lib/python3.10/dist-packages (from datasets) (0.70.15)\n",
            "Requirement already satisfied: fsspec[http]>=2021.11.1 in /usr/local/lib/python3.10/dist-packages (from datasets) (2023.6.0)\n",
            "Requirement already satisfied: aiohttp in /usr/local/lib/python3.10/dist-packages (from datasets) (3.8.4)\n",
            "Requirement already satisfied: huggingface-hub<1.0.0,>=0.14.0 in /usr/local/lib/python3.10/dist-packages (from datasets) (0.16.4)\n",
            "Requirement already satisfied: packaging in /usr/local/lib/python3.10/dist-packages (from datasets) (23.1)\n",
            "Requirement already satisfied: pyyaml>=5.1 in /usr/local/lib/python3.10/dist-packages (from datasets) (6.0.1)\n",
            "Requirement already satisfied: attrs>=17.3.0 in /usr/local/lib/python3.10/dist-packages (from aiohttp->datasets) (23.1.0)\n",
            "Requirement already satisfied: charset-normalizer<4.0,>=2.0 in /usr/local/lib/python3.10/dist-packages (from aiohttp->datasets) (2.0.12)\n",
            "Requirement already satisfied: multidict<7.0,>=4.5 in /usr/local/lib/python3.10/dist-packages (from aiohttp->datasets) (6.0.4)\n",
            "Requirement already satisfied: async-timeout<5.0,>=4.0.0a3 in /usr/local/lib/python3.10/dist-packages (from aiohttp->datasets) (4.0.2)\n",
            "Requirement already satisfied: yarl<2.0,>=1.0 in /usr/local/lib/python3.10/dist-packages (from aiohttp->datasets) (1.9.2)\n",
            "Requirement already satisfied: frozenlist>=1.1.1 in /usr/local/lib/python3.10/dist-packages (from aiohttp->datasets) (1.4.0)\n",
            "Requirement already satisfied: aiosignal>=1.1.2 in /usr/local/lib/python3.10/dist-packages (from aiohttp->datasets) (1.3.1)\n",
            "Requirement already satisfied: filelock in /usr/local/lib/python3.10/dist-packages (from huggingface-hub<1.0.0,>=0.14.0->datasets) (3.12.2)\n",
            "Requirement already satisfied: typing-extensions>=3.7.4.3 in /usr/local/lib/python3.10/dist-packages (from huggingface-hub<1.0.0,>=0.14.0->datasets) (4.7.1)\n",
            "Requirement already satisfied: urllib3<1.27,>=1.21.1 in /usr/local/lib/python3.10/dist-packages (from requests>=2.19.0->datasets) (1.26.16)\n",
            "Requirement already satisfied: certifi>=2017.4.17 in /usr/local/lib/python3.10/dist-packages (from requests>=2.19.0->datasets) (2023.5.7)\n",
            "Requirement already satisfied: idna<4,>=2.5 in /usr/local/lib/python3.10/dist-packages (from requests>=2.19.0->datasets) (3.4)\n",
            "Requirement already satisfied: python-dateutil>=2.8.1 in /usr/local/lib/python3.10/dist-packages (from pandas->datasets) (2.8.2)\n",
            "Requirement already satisfied: pytz>=2020.1 in /usr/local/lib/python3.10/dist-packages (from pandas->datasets) (2022.7.1)\n",
            "Requirement already satisfied: six>=1.5 in /usr/local/lib/python3.10/dist-packages (from python-dateutil>=2.8.1->pandas->datasets) (1.16.0)\n",
            "Requirement already satisfied: torch in /usr/local/lib/python3.10/dist-packages (2.0.1+cu118)\n",
            "Requirement already satisfied: filelock in /usr/local/lib/python3.10/dist-packages (from torch) (3.12.2)\n",
            "Requirement already satisfied: typing-extensions in /usr/local/lib/python3.10/dist-packages (from torch) (4.7.1)\n",
            "Requirement already satisfied: sympy in /usr/local/lib/python3.10/dist-packages (from torch) (1.11.1)\n",
            "Requirement already satisfied: networkx in /usr/local/lib/python3.10/dist-packages (from torch) (3.1)\n",
            "Requirement already satisfied: jinja2 in /usr/local/lib/python3.10/dist-packages (from torch) (3.1.2)\n",
            "Requirement already satisfied: triton==2.0.0 in /usr/local/lib/python3.10/dist-packages (from torch) (2.0.0)\n",
            "Requirement already satisfied: cmake in /usr/local/lib/python3.10/dist-packages (from triton==2.0.0->torch) (3.25.2)\n",
            "Requirement already satisfied: lit in /usr/local/lib/python3.10/dist-packages (from triton==2.0.0->torch) (16.0.6)\n",
            "Requirement already satisfied: MarkupSafe>=2.0 in /usr/local/lib/python3.10/dist-packages (from jinja2->torch) (2.1.3)\n",
            "Requirement already satisfied: mpmath>=0.19 in /usr/local/lib/python3.10/dist-packages (from sympy->torch) (1.3.0)\n",
            "Requirement already satisfied: scikit-learn in /usr/local/lib/python3.10/dist-packages (1.2.2)\n",
            "Requirement already satisfied: numpy>=1.17.3 in /usr/local/lib/python3.10/dist-packages (from scikit-learn) (1.25.1)\n",
            "Requirement already satisfied: scipy>=1.3.2 in /usr/local/lib/python3.10/dist-packages (from scikit-learn) (1.11.1)\n",
            "Requirement already satisfied: joblib>=1.1.1 in /usr/local/lib/python3.10/dist-packages (from scikit-learn) (1.3.1)\n",
            "Requirement already satisfied: threadpoolctl>=2.0.0 in /usr/local/lib/python3.10/dist-packages (from scikit-learn) (3.2.0)\n",
            "Requirement already satisfied: matplotlib in /usr/local/lib/python3.10/dist-packages (3.7.1)\n",
            "Requirement already satisfied: contourpy>=1.0.1 in /usr/local/lib/python3.10/dist-packages (from matplotlib) (1.1.0)\n",
            "Requirement already satisfied: cycler>=0.10 in /usr/local/lib/python3.10/dist-packages (from matplotlib) (0.11.0)\n",
            "Requirement already satisfied: fonttools>=4.22.0 in /usr/local/lib/python3.10/dist-packages (from matplotlib) (4.41.0)\n",
            "Requirement already satisfied: kiwisolver>=1.0.1 in /usr/local/lib/python3.10/dist-packages (from matplotlib) (1.4.4)\n",
            "Requirement already satisfied: numpy>=1.20 in /usr/local/lib/python3.10/dist-packages (from matplotlib) (1.25.1)\n",
            "Requirement already satisfied: packaging>=20.0 in /usr/local/lib/python3.10/dist-packages (from matplotlib) (23.1)\n",
            "Requirement already satisfied: pillow>=6.2.0 in /usr/local/lib/python3.10/dist-packages (from matplotlib) (8.4.0)\n",
            "Requirement already satisfied: pyparsing>=2.3.1 in /usr/local/lib/python3.10/dist-packages (from matplotlib) (3.1.0)\n",
            "Requirement already satisfied: python-dateutil>=2.7 in /usr/local/lib/python3.10/dist-packages (from matplotlib) (2.8.2)\n",
            "Requirement already satisfied: six>=1.5 in /usr/local/lib/python3.10/dist-packages (from python-dateutil>=2.7->matplotlib) (1.16.0)\n",
            "Requirement already satisfied: sentence_transformers in /usr/local/lib/python3.10/dist-packages (2.2.2)\n",
            "Requirement already satisfied: transformers<5.0.0,>=4.6.0 in /usr/local/lib/python3.10/dist-packages (from sentence_transformers) (4.31.0)\n",
            "Requirement already satisfied: tqdm in /usr/local/lib/python3.10/dist-packages (from sentence_transformers) (4.65.0)\n",
            "Requirement already satisfied: torch>=1.6.0 in /usr/local/lib/python3.10/dist-packages (from sentence_transformers) (2.0.1+cu118)\n",
            "Requirement already satisfied: torchvision in /usr/local/lib/python3.10/dist-packages (from sentence_transformers) (0.15.2+cu118)\n",
            "Requirement already satisfied: numpy in /usr/local/lib/python3.10/dist-packages (from sentence_transformers) (1.25.1)\n",
            "Requirement already satisfied: scikit-learn in /usr/local/lib/python3.10/dist-packages (from sentence_transformers) (1.2.2)\n",
            "Requirement already satisfied: scipy in /usr/local/lib/python3.10/dist-packages (from sentence_transformers) (1.11.1)\n",
            "Requirement already satisfied: nltk in /usr/local/lib/python3.10/dist-packages (from sentence_transformers) (3.8.1)\n",
            "Requirement already satisfied: sentencepiece in /usr/local/lib/python3.10/dist-packages (from sentence_transformers) (0.1.99)\n",
            "Requirement already satisfied: huggingface-hub>=0.4.0 in /usr/local/lib/python3.10/dist-packages (from sentence_transformers) (0.16.4)\n",
            "Requirement already satisfied: filelock in /usr/local/lib/python3.10/dist-packages (from huggingface-hub>=0.4.0->sentence_transformers) (3.12.2)\n",
            "Requirement already satisfied: fsspec in /usr/local/lib/python3.10/dist-packages (from huggingface-hub>=0.4.0->sentence_transformers) (2023.6.0)\n",
            "Requirement already satisfied: requests in /usr/local/lib/python3.10/dist-packages (from huggingface-hub>=0.4.0->sentence_transformers) (2.27.1)\n",
            "Requirement already satisfied: pyyaml>=5.1 in /usr/local/lib/python3.10/dist-packages (from huggingface-hub>=0.4.0->sentence_transformers) (6.0.1)\n",
            "Requirement already satisfied: typing-extensions>=3.7.4.3 in /usr/local/lib/python3.10/dist-packages (from huggingface-hub>=0.4.0->sentence_transformers) (4.7.1)\n",
            "Requirement already satisfied: packaging>=20.9 in /usr/local/lib/python3.10/dist-packages (from huggingface-hub>=0.4.0->sentence_transformers) (23.1)\n",
            "Requirement already satisfied: sympy in /usr/local/lib/python3.10/dist-packages (from torch>=1.6.0->sentence_transformers) (1.11.1)\n",
            "Requirement already satisfied: networkx in /usr/local/lib/python3.10/dist-packages (from torch>=1.6.0->sentence_transformers) (3.1)\n",
            "Requirement already satisfied: jinja2 in /usr/local/lib/python3.10/dist-packages (from torch>=1.6.0->sentence_transformers) (3.1.2)\n",
            "Requirement already satisfied: triton==2.0.0 in /usr/local/lib/python3.10/dist-packages (from torch>=1.6.0->sentence_transformers) (2.0.0)\n",
            "Requirement already satisfied: cmake in /usr/local/lib/python3.10/dist-packages (from triton==2.0.0->torch>=1.6.0->sentence_transformers) (3.25.2)\n",
            "Requirement already satisfied: lit in /usr/local/lib/python3.10/dist-packages (from triton==2.0.0->torch>=1.6.0->sentence_transformers) (16.0.6)\n",
            "Requirement already satisfied: regex!=2019.12.17 in /usr/local/lib/python3.10/dist-packages (from transformers<5.0.0,>=4.6.0->sentence_transformers) (2022.10.31)\n",
            "Requirement already satisfied: tokenizers!=0.11.3,<0.14,>=0.11.1 in /usr/local/lib/python3.10/dist-packages (from transformers<5.0.0,>=4.6.0->sentence_transformers) (0.13.3)\n",
            "Requirement already satisfied: safetensors>=0.3.1 in /usr/local/lib/python3.10/dist-packages (from transformers<5.0.0,>=4.6.0->sentence_transformers) (0.3.1)\n",
            "Requirement already satisfied: click in /usr/local/lib/python3.10/dist-packages (from nltk->sentence_transformers) (8.1.6)\n",
            "Requirement already satisfied: joblib in /usr/local/lib/python3.10/dist-packages (from nltk->sentence_transformers) (1.3.1)\n",
            "Requirement already satisfied: threadpoolctl>=2.0.0 in /usr/local/lib/python3.10/dist-packages (from scikit-learn->sentence_transformers) (3.2.0)\n",
            "Requirement already satisfied: pillow!=8.3.*,>=5.3.0 in /usr/local/lib/python3.10/dist-packages (from torchvision->sentence_transformers) (8.4.0)\n",
            "Requirement already satisfied: MarkupSafe>=2.0 in /usr/local/lib/python3.10/dist-packages (from jinja2->torch>=1.6.0->sentence_transformers) (2.1.3)\n",
            "Requirement already satisfied: urllib3<1.27,>=1.21.1 in /usr/local/lib/python3.10/dist-packages (from requests->huggingface-hub>=0.4.0->sentence_transformers) (1.26.16)\n",
            "Requirement already satisfied: certifi>=2017.4.17 in /usr/local/lib/python3.10/dist-packages (from requests->huggingface-hub>=0.4.0->sentence_transformers) (2023.5.7)\n",
            "Requirement already satisfied: charset-normalizer~=2.0.0 in /usr/local/lib/python3.10/dist-packages (from requests->huggingface-hub>=0.4.0->sentence_transformers) (2.0.12)\n",
            "Requirement already satisfied: idna<4,>=2.5 in /usr/local/lib/python3.10/dist-packages (from requests->huggingface-hub>=0.4.0->sentence_transformers) (3.4)\n",
            "Requirement already satisfied: mpmath>=0.19 in /usr/local/lib/python3.10/dist-packages (from sympy->torch>=1.6.0->sentence_transformers) (1.3.0)\n",
            "Requirement already satisfied: py-rouge==1.1 in /usr/local/lib/python3.10/dist-packages (1.1)\n"
          ]
        }
      ]
    },
    {
      "cell_type": "code",
      "source": [
        "import numpy as np\n",
        "from sklearn.cluster import KMeans\n",
        "import matplotlib.pyplot as plt\n",
        "from sentence_transformers import SentenceTransformer\n",
        "from nltk import sent_tokenize,word_tokenize\n",
        "\n",
        "from sklearn.metrics.pairwise import cosine_similarity\n",
        "import networkx as nx\n",
        "\n",
        "import nltk\n",
        "nltk.download('punkt')\n",
        "nltk.download('averaged_perceptron_tagger')\n",
        "\n",
        "import warnings\n",
        "warnings.filterwarnings(\"ignore\")\n",
        "import re\n",
        "\n",
        "from datasets import load_dataset\n",
        "from scipy.spatial import distance\n",
        "\n",
        "import math\n",
        "from math import*\n",
        "\n",
        "import rouge\n",
        "\n",
        "import networkx as nx\n",
        "\n",
        "import time\n",
        "from transformers import logging\n",
        "logging.set_verbosity_error()\n",
        "\n",
        "import json\n",
        "import os"
      ],
      "metadata": {
        "id": "CZfgFyRF3kb8",
        "colab": {
          "base_uri": "https://localhost:8080/"
        },
        "outputId": "1cd09920-41e1-4209-e883-03d306edc98b"
      },
      "execution_count": 3,
      "outputs": [
        {
          "output_type": "stream",
          "name": "stderr",
          "text": [
            "[nltk_data] Downloading package punkt to /root/nltk_data...\n",
            "[nltk_data]   Package punkt is already up-to-date!\n",
            "[nltk_data] Downloading package averaged_perceptron_tagger to\n",
            "[nltk_data]     /root/nltk_data...\n",
            "[nltk_data]   Package averaged_perceptron_tagger is already up-to-\n",
            "[nltk_data]       date!\n"
          ]
        }
      ]
    },
    {
      "cell_type": "code",
      "source": [
        "# Preprocessing method\n",
        "def preprocess_corpus(text):\n",
        "    # Remove special characters and extra whitespaces\n",
        "    text = re.sub(r\"[^a-zA-Z0-9\\s.]\", \"\", text)\n",
        "    text = re.sub(r\"\\s+\", \" \", text)\n",
        "    return text\n",
        "\n",
        "def textSentenceCount(Text):\n",
        "    number_of_sentences = sent_tokenize(Text)\n",
        "    count=(len(number_of_sentences))\n",
        "    return count\n",
        "\n",
        "def cosine(u, v):\n",
        "    return np.dot(u, v) / (np.linalg.norm(u) * np.linalg.norm(v))\n",
        "\n",
        "def createSummaryUsingKMeans(corpus, modelName,file_Path_Sent_Dist):\n",
        "    sentences = sent_tokenize(corpus)\n",
        "    model = SentenceTransformer(modelName)\n",
        "    sentence_embeddings = model.encode(sentences)\n",
        "\n",
        "    optimum_clusters = find_optimum_clusters(sentence_embeddings, int(len(sentences) / 3))\n",
        "    print(\"Optimum cluster number:\", optimum_clusters)\n",
        "\n",
        "    # Perform kmean clustering\n",
        "    kmeans = KMeans(n_clusters=optimum_clusters, random_state=0, n_init='auto').fit(sentence_embeddings)\n",
        "\n",
        "    chosen_sentence_indexes=[]\n",
        "    cluster_rank=[]\n",
        "    for cluster_id in range(optimum_clusters):\n",
        "        cluster_indices = np.where(kmeans.labels_ == cluster_id)[0]\n",
        "        cluster_weight=clusterWeight(sentence_embeddings, cluster_indices)\n",
        "        cluster_rank.append(cluster_weight)\n",
        "        chosen_sentence_index=text_rank(sentence_embeddings, cluster_indices)\n",
        "        chosen_sentence_indexes.append(chosen_sentence_index)\n",
        "\n",
        "    if optimum_clusters>5:\n",
        "      choosen_clusters=k_highest_indices(cluster_rank, 5)\n",
        "      chosen_sentence_indexes = [chosen_sentence_indexes[i] for i in choosen_clusters]\n",
        "\n",
        "    sorted_indexes=sorted(chosen_sentence_indexes)\n",
        "    saveSummariesinJsonFile(len(sentences), sorted_indexes,file_Path_Sent_Dist)\n",
        "\n",
        "    chosen_sentences = []\n",
        "    for chosen_sentence_index in sorted_indexes:\n",
        "        chosen_sentences.append(sentences[chosen_sentence_index])\n",
        "\n",
        "    summary = \" \".join(chosen_sentences)\n",
        "\n",
        "    return summary\n",
        "\n",
        "def convert_int64_to_int(obj):\n",
        "    if isinstance(obj, int):\n",
        "        return int(obj)\n",
        "    raise TypeError\n",
        "\n",
        "def saveSummariesinJsonFile(num_sents, sorted_indexes,file_Path_Sent_Dist):\n",
        "    filePath=file_Path_Sent_Dist\n",
        "    # Create a dictionary with the required data structure\n",
        "    data = {\n",
        "        \"num_sents\": num_sents,\n",
        "        \"summary\": [[int(index)] for index in sorted_indexes]\n",
        "    }\n",
        "\n",
        "    # Check if the file path exists\n",
        "    if os.path.exists(filePath):\n",
        "        try:\n",
        "            # If the file exists and is not empty, read the existing data\n",
        "            with open(filePath, \"r\") as file:\n",
        "                existing_data = json.load(file)\n",
        "        except json.JSONDecodeError:\n",
        "            # If the file exists but contains invalid JSON data, initialize with an empty list\n",
        "            existing_data = []\n",
        "    else:\n",
        "        # If the file does not exist, create a new file with the data\n",
        "        existing_data = []\n",
        "\n",
        "    # Append the new data to the existing data\n",
        "    existing_data.append(data)\n",
        "\n",
        "    # Write the updated data to the file\n",
        "    with open(filePath, \"w\") as file:\n",
        "        json.dump(existing_data, file, indent=2, default=convert_int64_to_int)\n",
        "\n",
        "\n",
        "\n",
        "#function calculates the optimal number of clusters using the elbow method. The function plots the elbow curve, which shows the inertia values for different cluster numbers. The user can visually inspect the plot to determine the elbow point, indicating the optimal number of clusters.\n",
        "def find_optimum_clusters(data, max_clusters):\n",
        "    inertias = []\n",
        "    for k in range(1, max_clusters + 1):\n",
        "        kmeans = KMeans(n_clusters=k, random_state=0).fit(data)\n",
        "        inertias.append(kmeans.inertia_)\n",
        "\n",
        "    # Plotting the elbow curve\n",
        "    #plt.plot(range(1, max_clusters + 1), inertias)\n",
        "    #plt.xlabel(\"Number of Clusters\")\n",
        "    #plt.ylabel(\"Inertia\")\n",
        "    #plt.title(\"Elbow Curve\")\n",
        "    #plt.show()\n",
        "\n",
        "    # Calculate the optimal number of clusters using the elbow method\n",
        "    diff = np.diff(inertias)\n",
        "    acceleration = np.diff(diff)\n",
        "    opt_cluster_num = acceleration.argmin() + 2  # Adding 2 to get the index of the minimum acceleration\n",
        "    return opt_cluster_num\n",
        "\n",
        "def clusterWeight(sentence_embeddings, cluster_indices):\n",
        "  length=len(cluster_indices)\n",
        "  sentenceGraph =np.zeros((length, length))\n",
        "  for x in range(length):\n",
        "    for y in range(length):\n",
        "      if x>y:\n",
        "        similarity= cosine(sentence_embeddings[cluster_indices[x]],sentence_embeddings[cluster_indices[y]])\n",
        "        sentenceGraph[x][y]=abs(similarity)\n",
        "    #print(sentenceGraph)\n",
        "  SumElement=(np.concatenate(sentenceGraph).sum())\n",
        "  return round(SumElement,2)\n",
        "\n",
        "def k_highest_indices(cluster_weight_list, k):\n",
        "    # Enumerate the list to keep track of original indices\n",
        "    enumerated_list = list(enumerate(cluster_weight_list))\n",
        "\n",
        "    # Sort the enumerated list in descending order based on the float values\n",
        "    sorted_list = sorted(enumerated_list, key=lambda x: x[1], reverse=True)\n",
        "\n",
        "    # Extract the indices of the k highest elements\n",
        "    k_highest_indices = [item[0] for item in sorted_list[:k]]\n",
        "\n",
        "    return k_highest_indices\n",
        "\n",
        "def text_rank(sentence_embeddings, indexes):\n",
        "    # Filter embeddings based on the input indexes\n",
        "    filtered_embeddings = np.array([sentence_embeddings[i] for i in indexes])\n",
        "\n",
        "    # Calculate cosine similarity between filtered sentence embeddings\n",
        "    similarity_matrix = cosine_similarity(filtered_embeddings, filtered_embeddings)\n",
        "\n",
        "    # Create a graph using similarity matrix\n",
        "    graph = nx.from_numpy_array(similarity_matrix)\n",
        "    try:\n",
        "      # Apply TextRank algorithm to rank the sentences\n",
        "      scores = nx.pagerank(graph, max_iter=1000)\n",
        "          # Get the index of the highest-ranked sentence\n",
        "      highest_ranked_index = max(scores, key=scores.get)\n",
        "\n",
        "      # Get the original index from the list of indexes\n",
        "      highest_ranked_original_index = indexes[highest_ranked_index]\n",
        "      return highest_ranked_original_index\n",
        "    except:\n",
        "      print(\"######### Error with PageRank\")\n",
        "      return indexes[0]\n",
        "\n",
        "\n",
        "\n"
      ],
      "metadata": {
        "id": "EETObHuc9vy8"
      },
      "execution_count": 4,
      "outputs": []
    },
    {
      "cell_type": "code",
      "source": [
        "#modelName = 'all-mpnet-base-v2'\n",
        "modelName ='nli-distilroberta-base-v2'\n",
        "dataset = load_dataset('cnn_dailymail', '3.0.0')\n",
        "datasetName='-CNNDM'\n",
        "path='/content/drive/Othercomputers/My Laptop/DriveAccess/'\n",
        "\n",
        "# Define the file path\n",
        "file_path = path+\"GrinchAllGoldAndMySummaries-\"+modelName+datasetName+\".json\"  # Replace with the desired file path\n",
        "file_Path_Sent_Dist=path+\"GrinchSentenceDistrubtionsOfSummaries-\"+modelName+datasetName+\".json\"  # Replace with the desired file path\n",
        "\n",
        "startTimeforOverall = time.time()\n",
        "all_summary = []\n",
        "all_goldstandart = []\n",
        "\n",
        "N = 4\n",
        "startN = 0\n",
        "\n",
        "for d in range(N):\n",
        "    startTimeforDocument = time.time()\n",
        "    print(\"Document:\", startN + d + 1)\n",
        "    corpus = dataset['train']['article'][startN + d]\n",
        "    corpus = preprocess_corpus(corpus)\n",
        "    print(\"Document sentence number:\", textSentenceCount(corpus))\n",
        "\n",
        "\n",
        "    if textSentenceCount(corpus) > 8:\n",
        "        summary = createSummaryUsingKMeans(corpus, modelName,file_Path_Sent_Dist)\n",
        "        print(\"Summary sentence number:\", textSentenceCount(summary))\n",
        "        all_summary.append(summary)\n",
        "    else:\n",
        "      all_summary.append(corpus)\n",
        "      print(\"Corpus is less than 9 sentence, summarization didn't apply sentence number:\", textSentenceCount(corpus))\n",
        "\n",
        "    all_goldstandart.append(dataset['train']['highlights'][startN + d])\n",
        "    elapsedTimeforDocument = time.time() - startTimeforDocument\n",
        "    elapsedTimeforAll = time.time() - startTimeforOverall\n",
        "    print('Document processing time: '+time.strftime(\"%M:%S\", time.gmtime(elapsedTimeforDocument)))\n",
        "    print('Total processing time: '+time.strftime(\"%d:%H:%M:%S\", time.gmtime(elapsedTimeforAll)))\n",
        "\n",
        "    print(\"----------------------------------\")\n"
      ],
      "metadata": {
        "id": "BrKrlYxN3auN",
        "colab": {
          "base_uri": "https://localhost:8080/"
        },
        "outputId": "61c3246f-cf40-445e-fe79-922cc70d55fa"
      },
      "execution_count": 5,
      "outputs": [
        {
          "output_type": "stream",
          "name": "stdout",
          "text": [
            "Document: 1\n",
            "Document sentence number: 24\n",
            "Optimum cluster number: 6\n",
            "Summary sentence number: 5\n",
            "Document processing time: 00:04\n",
            "Total processing time: 01:00:00:04\n",
            "----------------------------------\n",
            "Document: 2\n",
            "Document sentence number: 43\n",
            "Optimum cluster number: 7\n",
            "Summary sentence number: 5\n",
            "Document processing time: 00:04\n",
            "Total processing time: 01:00:00:09\n",
            "----------------------------------\n",
            "Document: 3\n",
            "Document sentence number: 48\n",
            "Optimum cluster number: 12\n",
            "Summary sentence number: 5\n",
            "Document processing time: 00:05\n",
            "Total processing time: 01:00:00:14\n",
            "----------------------------------\n",
            "Document: 4\n",
            "Document sentence number: 24\n",
            "Optimum cluster number: 6\n",
            "Summary sentence number: 5\n",
            "Document processing time: 00:03\n",
            "Total processing time: 01:00:00:18\n",
            "----------------------------------\n"
          ]
        }
      ]
    },
    {
      "cell_type": "code",
      "source": [
        "def prepare_results(m, p, r, f):\n",
        "    return '\\t{}:\\t{}: {:5.2f}\\t{}: {:5.2f}\\t{}: {:5.2f}'.format(m, 'P', 100.0 * p, 'R', 100.0 * r, 'F1', 100.0 * f)\n",
        "\n",
        "def rougeEvaluation(all_hypothesis, all_references):\n",
        "\n",
        "    for aggregator in ['Avg']:\n",
        "        print('Evaluation with {}'.format(aggregator))\n",
        "        apply_avg = aggregator == 'Avg'\n",
        "        apply_best = aggregator == 'Best'\n",
        "\n",
        "        evaluator = rouge.Rouge(metrics=['rouge-n', 'rouge-l', 'rouge-w'],\n",
        "                               max_n=4,\n",
        "                               limit_length=False,\n",
        "                               length_limit=1000,\n",
        "                               length_limit_type='words',\n",
        "                               apply_avg=apply_avg,\n",
        "                               apply_best=apply_best,\n",
        "                               alpha=0.2, # Default F1_score\n",
        "                               weight_factor=1.2,\n",
        "                               stemming=True)\n",
        "\n",
        "        scores = evaluator.get_scores(all_hypothesis, all_references)\n",
        "\n",
        "        for metric, results in sorted(scores.items(), key=lambda x: x[0]):\n",
        "            if not apply_avg and not apply_best: # value is a type of list as we evaluate each summary vs each reference\n",
        "                for hypothesis_id, results_per_ref in enumerate(results):\n",
        "                    nb_references = len(results_per_ref['p'])\n",
        "                    for reference_id in range(nb_references):\n",
        "                        print('\\tHypothesis #{} & Reference #{}: '.format(hypothesis_id, reference_id))\n",
        "                        print('\\t' + prepare_results(metric,results_per_ref['p'][reference_id], results_per_ref['r'][reference_id], results_per_ref['f'][reference_id]))\n",
        "                print()\n",
        "            else:\n",
        "                print(prepare_results(metric, results['p'], results['r'], results['f']))\n",
        "        print()"
      ],
      "metadata": {
        "id": "po9dIR53OKQ-"
      },
      "execution_count": 6,
      "outputs": []
    },
    {
      "cell_type": "code",
      "source": [
        "len(all_goldstandart)"
      ],
      "metadata": {
        "id": "2e_sOzFSGK2Y",
        "colab": {
          "base_uri": "https://localhost:8080/"
        },
        "outputId": "be53f176-111c-4a3d-f5a9-7208f1d271f7"
      },
      "execution_count": 7,
      "outputs": [
        {
          "output_type": "execute_result",
          "data": {
            "text/plain": [
              "4"
            ]
          },
          "metadata": {},
          "execution_count": 7
        }
      ]
    },
    {
      "cell_type": "code",
      "source": [
        "rougeEvaluation(all_summary, all_goldstandart)\n",
        "\n"
      ],
      "metadata": {
        "id": "EBXQ0G2-PnlW",
        "colab": {
          "base_uri": "https://localhost:8080/"
        },
        "outputId": "5b12f885-f5e6-4674-e91f-4ca78df7b317"
      },
      "execution_count": 8,
      "outputs": [
        {
          "output_type": "stream",
          "name": "stdout",
          "text": [
            "Evaluation with Avg\n",
            "\trouge-1:\tP: 17.81\tR: 47.69\tF1: 34.65\n",
            "\trouge-2:\tP:  6.07\tR: 16.92\tF1: 12.15\n",
            "\trouge-3:\tP:  2.84\tR:  9.18\tF1:  6.30\n",
            "\trouge-4:\tP:  2.12\tR:  6.91\tF1:  4.74\n",
            "\trouge-l:\tP: 21.03\tR: 47.61\tF1: 37.23\n",
            "\trouge-w:\tP: 11.45\tR: 19.37\tF1: 16.53\n",
            "\n"
          ]
        }
      ]
    },
    {
      "cell_type": "code",
      "source": [
        "# Play an audio beep. Any audio URL will do.\n",
        "from google.colab import output\n",
        "output.eval_js('new Audio(\"https://upload.wikimedia.org/wikipedia/commons/0/05/Beep-09.ogg\").play()')"
      ],
      "metadata": {
        "id": "q7CA0TIIXmxP"
      },
      "execution_count": 9,
      "outputs": []
    },
    {
      "cell_type": "code",
      "source": [
        "# Save files\n",
        "\n",
        "import json\n",
        "import os\n",
        "\n",
        "\n",
        "# Check if the file already exists\n",
        "if os.path.exists(file_path):\n",
        "    # Read the existing data from the JSON file\n",
        "    with open(file_path, \"r\") as file:\n",
        "        existing_data = json.load(file)\n",
        "\n",
        "    # Combine the existing data with the new data (lists)\n",
        "    existing_summary = existing_data.get(\"all_summary\", [])\n",
        "    existing_goldstandart = existing_data.get(\"all_goldstandart\", [])\n",
        "\n",
        "    # Assuming you have three new lists: new_intermediate_summary, new_summary, new_goldstandart\n",
        "    # Sample new lists (replace these with your actual lists)\n",
        "    new_summary = all_summary\n",
        "    new_goldstandart = all_goldstandart\n",
        "\n",
        "\n",
        "    # Merge the new lists with the existing ones\n",
        "    all_summary = existing_summary + new_summary\n",
        "    all_goldstandart = existing_goldstandart + new_goldstandart\n",
        "\n",
        "# Combine the lists into a dictionary for easy serialization\n",
        "data = {\n",
        "    \"all_summary\": all_summary,\n",
        "    \"all_goldstandart\": all_goldstandart\n",
        "}\n",
        "\n",
        "# Save the data to a JSON file\n",
        "with open(file_path, \"w\") as file:\n",
        "    json.dump(data, file)\n",
        "\n",
        "print(\"Lists have been saved to\", file_path)\n"
      ],
      "metadata": {
        "id": "p0VlbOlRqUv8",
        "colab": {
          "base_uri": "https://localhost:8080/"
        },
        "outputId": "d7615946-f6a3-44cd-9f6c-e39ef6674fde"
      },
      "execution_count": 10,
      "outputs": [
        {
          "output_type": "stream",
          "name": "stdout",
          "text": [
            "Lists have been saved to /content/drive/Othercomputers/My Laptop/DriveAccess/GrinchAllGoldAndMySummaries-nli-distilroberta-base-v2-CNNDM.json\n"
          ]
        }
      ]
    },
    {
      "cell_type": "code",
      "source": [
        "print(len(data['all_summary']))"
      ],
      "metadata": {
        "id": "SLuQSjjjvLQF",
        "colab": {
          "base_uri": "https://localhost:8080/"
        },
        "outputId": "e80041e8-b3d7-4eca-8359-dfd34076089d"
      },
      "execution_count": 11,
      "outputs": [
        {
          "output_type": "stream",
          "name": "stdout",
          "text": [
            "4\n"
          ]
        }
      ]
    },
    {
      "cell_type": "code",
      "source": [
        "rougeEvaluation(data['all_summary'], data['all_goldstandart'])"
      ],
      "metadata": {
        "id": "N5zhCkz-v3FN",
        "colab": {
          "base_uri": "https://localhost:8080/"
        },
        "outputId": "4f02c8a3-1cfc-4478-a830-0dd65a85ab42"
      },
      "execution_count": 12,
      "outputs": [
        {
          "output_type": "stream",
          "name": "stdout",
          "text": [
            "Evaluation with Avg\n",
            "\trouge-1:\tP: 17.81\tR: 47.69\tF1: 34.65\n",
            "\trouge-2:\tP:  6.07\tR: 16.92\tF1: 12.15\n",
            "\trouge-3:\tP:  2.84\tR:  9.18\tF1:  6.30\n",
            "\trouge-4:\tP:  2.12\tR:  6.91\tF1:  4.74\n",
            "\trouge-l:\tP: 21.03\tR: 47.61\tF1: 37.23\n",
            "\trouge-w:\tP: 11.45\tR: 19.37\tF1: 16.53\n",
            "\n"
          ]
        }
      ]
    },
    {
      "cell_type": "code",
      "source": [
        "# Play an audio beep. Any audio URL will do.\n",
        "from google.colab import output\n",
        "output.eval_js('new Audio(\"https://upload.wikimedia.org/wikipedia/commons/0/05/Beep-09.ogg\").play()')"
      ],
      "metadata": {
        "id": "mMAnAzIjw3Sl"
      },
      "execution_count": 13,
      "outputs": []
    },
    {
      "cell_type": "code",
      "source": [
        "sentencenumber=0\n",
        "for i in range(len(all_summary)):\n",
        "  sentencenumber=sentencenumber+textSentenceCount(all_summary[i])\n",
        "\n",
        "avg=sentencenumber/len(all_summary)"
      ],
      "metadata": {
        "id": "E88kim6BA259"
      },
      "execution_count": 14,
      "outputs": []
    },
    {
      "cell_type": "code",
      "source": [
        "avg"
      ],
      "metadata": {
        "id": "2_ZLh0uCBRHY",
        "colab": {
          "base_uri": "https://localhost:8080/"
        },
        "outputId": "8318a8ec-6ece-4b1d-af23-d96e4b64836c"
      },
      "execution_count": 15,
      "outputs": [
        {
          "output_type": "execute_result",
          "data": {
            "text/plain": [
              "5.0"
            ]
          },
          "metadata": {},
          "execution_count": 15
        }
      ]
    },
    {
      "cell_type": "code",
      "source": [
        "sentencenumber=0\n",
        "for i in range(len(all_goldstandart)):\n",
        "  sentencenumber=sentencenumber+textSentenceCount(all_goldstandart[i])\n",
        "\n",
        "avg=sentencenumber/len(all_goldstandart)"
      ],
      "metadata": {
        "id": "aJWRPJuMlcKf"
      },
      "execution_count": 16,
      "outputs": []
    },
    {
      "cell_type": "code",
      "source": [
        "avg"
      ],
      "metadata": {
        "id": "xb7IbabglkE_",
        "colab": {
          "base_uri": "https://localhost:8080/"
        },
        "outputId": "03f25813-2d0f-441a-8beb-d7ac4a4ad2c2"
      },
      "execution_count": 17,
      "outputs": [
        {
          "output_type": "execute_result",
          "data": {
            "text/plain": [
              "2.5"
            ]
          },
          "metadata": {},
          "execution_count": 17
        }
      ]
    }
  ]
}