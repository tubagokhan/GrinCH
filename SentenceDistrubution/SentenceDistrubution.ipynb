{
  "nbformat": 4,
  "nbformat_minor": 0,
  "metadata": {
    "colab": {
      "private_outputs": true,
      "provenance": [],
      "authorship_tag": "ABX9TyOsw91GsiZEsjJBP+Fsk+IM",
      "include_colab_link": true
    },
    "kernelspec": {
      "name": "python3",
      "display_name": "Python 3"
    },
    "language_info": {
      "name": "python"
    }
  },
  "cells": [
    {
      "cell_type": "markdown",
      "metadata": {
        "id": "view-in-github",
        "colab_type": "text"
      },
      "source": [
        "<a href=\"https://colab.research.google.com/github/tubagokhan/GrinCH/blob/main/SentenceDistrubution/SentenceDistrubution.ipynb\" target=\"_parent\"><img src=\"https://colab.research.google.com/assets/colab-badge.svg\" alt=\"Open In Colab\"/></a>"
      ]
    },
    {
      "cell_type": "code",
      "source": [
        "from google.colab import drive\n",
        "drive.mount('/content/drive')"
      ],
      "metadata": {
        "id": "WGqiv9zeKVsL"
      },
      "execution_count": null,
      "outputs": []
    },
    {
      "cell_type": "code",
      "execution_count": null,
      "metadata": {
        "id": "pLnpflupKF8G"
      },
      "outputs": [],
      "source": [
        "from pathlib import Path\n",
        "import json\n",
        "import pandas as pd"
      ]
    },
    {
      "cell_type": "code",
      "source": [
        "def sentenceDistrubution(file_path):\n",
        "    file=file_path.split(\".\")[0]\n",
        "    summary_path = Path(file_path)\n",
        "    summary_docs = json.loads(summary_path.read_text())\n",
        "    summary_sums = [[x[0] for x in d[\"summary\"]] for d in summary_docs]\n",
        "\n",
        "    summary_positions = [[x[-1]/d[\"num_sents\"] for x in d[\"summary\"]]\n",
        "                           for d in sorted(summary_docs, key=lambda x: x[\"num_sents\"])]\n",
        "\n",
        "    _x = []\n",
        "    _y = []\n",
        "    _a = []\n",
        "\n",
        "    for i,p in enumerate(summary_positions):\n",
        "        _x += [i for _ in p]\n",
        "        _y += p\n",
        "        _a += [(x/len(p), 1-x/len(p),0,0.8) for x,_ in enumerate(p)]\n",
        "\n",
        "    FONTSIZE = 90\n",
        "    FIG_X = 30\n",
        "    FIG_Y = 15\n",
        "\n",
        "    df_ = pd.DataFrame()\n",
        "    df_[\"Position\"] = _y\n",
        "    df_[\"Document\"] = _x\n",
        "\n",
        "    plt1 = df_.plot(x=\"Document\", y=\"Position\",\n",
        "                          kind=\"scatter\",  figsize=(FIG_X,FIG_Y), fontsize=FONTSIZE)\n",
        "    plt1.set_xlabel(\"Documents\", size = FONTSIZE)\n",
        "    plt1.set_ylabel(\"\", size = FONTSIZE)\n",
        "\n",
        "    plt1.set_yticks([0.1,0.9])\n",
        "    plt1.set_yticklabels([\"start\",\"end\"], rotation=90, va=\"center\")\n",
        "    plt1.set_xticklabels([])\n",
        "\n",
        "    figureName=file+\".png\"\n",
        "\n",
        "    plt1.figure.savefig(figureName)"
      ],
      "metadata": {
        "id": "VMY1E6_wKQS0"
      },
      "execution_count": null,
      "outputs": []
    },
    {
      "cell_type": "code",
      "source": [
        "sentenceDistrubution(\"/content/drive/Othercomputers/My Laptop/DriveAccess/GrinchSentenceDistrubtionsOfSummaries-nli-distilroberta-base-v2-CNNDM.json\")"
      ],
      "metadata": {
        "id": "c_8ArPkpKS_6"
      },
      "execution_count": null,
      "outputs": []
    }
  ]
}